{
 "cells": [
  {
   "cell_type": "code",
   "execution_count": 1,
   "id": "291f931a-a85d-4fcc-805f-b36fad1ad0f0",
   "metadata": {},
   "outputs": [
    {
     "data": {
      "text/plain": [
       "[1, 2, 3]"
      ]
     },
     "execution_count": 1,
     "metadata": {},
     "output_type": "execute_result"
    }
   ],
   "source": [
    "arr=[1,2,3]\n",
    "arr\n"
   ]
  },
  {
   "cell_type": "code",
   "execution_count": 2,
   "id": "6ae11ca5-baff-456e-a991-a389c6fa6bb9",
   "metadata": {},
   "outputs": [
    {
     "name": "stdout",
     "output_type": "stream",
     "text": [
      "Collecting numpy\n",
      "  Downloading numpy-1.26.3-cp310-cp310-win_amd64.whl.metadata (61 kB)\n",
      "     ---------------------------------------- 0.0/61.2 kB ? eta -:--:--\n",
      "     -------------------- ------------------- 30.7/61.2 kB ? eta -:--:--\n",
      "     -------------------------------------- 61.2/61.2 kB 809.0 kB/s eta 0:00:00\n",
      "Downloading numpy-1.26.3-cp310-cp310-win_amd64.whl (15.8 MB)\n",
      "   ---------------------------------------- 0.0/15.8 MB ? eta -:--:--\n",
      "   ---------------------------------------- 0.0/15.8 MB 1.3 MB/s eta 0:00:13\n",
      "   ---------------------------------------- 0.1/15.8 MB 1.4 MB/s eta 0:00:11\n",
      "    --------------------------------------- 0.3/15.8 MB 1.9 MB/s eta 0:00:09\n",
      "   - -------------------------------------- 0.5/15.8 MB 3.0 MB/s eta 0:00:06\n",
      "   - -------------------------------------- 0.8/15.8 MB 3.3 MB/s eta 0:00:05\n",
      "   -- ------------------------------------- 1.2/15.8 MB 4.1 MB/s eta 0:00:04\n",
      "   ---- ----------------------------------- 1.6/15.8 MB 5.1 MB/s eta 0:00:03\n",
      "   ----- ---------------------------------- 2.0/15.8 MB 5.6 MB/s eta 0:00:03\n",
      "   ------ --------------------------------- 2.5/15.8 MB 6.1 MB/s eta 0:00:03\n",
      "   ------- -------------------------------- 2.8/15.8 MB 6.0 MB/s eta 0:00:03\n",
      "   -------- ------------------------------- 3.2/15.8 MB 6.3 MB/s eta 0:00:03\n",
      "   --------- ------------------------------ 3.7/15.8 MB 6.5 MB/s eta 0:00:02\n",
      "   ---------- ----------------------------- 4.0/15.8 MB 6.6 MB/s eta 0:00:02\n",
      "   ----------- ---------------------------- 4.5/15.8 MB 6.9 MB/s eta 0:00:02\n",
      "   ------------ --------------------------- 5.0/15.8 MB 7.0 MB/s eta 0:00:02\n",
      "   ------------- -------------------------- 5.4/15.8 MB 7.0 MB/s eta 0:00:02\n",
      "   -------------- ------------------------- 5.7/15.8 MB 7.1 MB/s eta 0:00:02\n",
      "   --------------- ------------------------ 5.9/15.8 MB 7.2 MB/s eta 0:00:02\n",
      "   --------------- ------------------------ 6.0/15.8 MB 6.9 MB/s eta 0:00:02\n",
      "   --------------- ------------------------ 6.0/15.8 MB 6.9 MB/s eta 0:00:02\n",
      "   --------------- ------------------------ 6.0/15.8 MB 6.9 MB/s eta 0:00:02\n",
      "   --------------- ------------------------ 6.0/15.8 MB 6.9 MB/s eta 0:00:02\n",
      "   --------------- ------------------------ 6.0/15.8 MB 5.7 MB/s eta 0:00:02\n",
      "   --------------- ------------------------ 6.2/15.8 MB 5.5 MB/s eta 0:00:02\n",
      "   ---------------- ----------------------- 6.4/15.8 MB 5.4 MB/s eta 0:00:02\n",
      "   ----------------- ---------------------- 6.9/15.8 MB 5.6 MB/s eta 0:00:02\n",
      "   ------------------ --------------------- 7.2/15.8 MB 5.7 MB/s eta 0:00:02\n",
      "   ------------------- -------------------- 7.5/15.8 MB 5.7 MB/s eta 0:00:02\n",
      "   ------------------- -------------------- 7.7/15.8 MB 5.8 MB/s eta 0:00:02\n",
      "   -------------------- ------------------- 8.2/15.8 MB 5.9 MB/s eta 0:00:02\n",
      "   -------------------- ------------------- 8.2/15.8 MB 5.7 MB/s eta 0:00:02\n",
      "   -------------------- ------------------- 8.3/15.8 MB 5.6 MB/s eta 0:00:02\n",
      "   --------------------- ------------------ 8.5/15.8 MB 5.5 MB/s eta 0:00:02\n",
      "   ---------------------- ----------------- 8.8/15.8 MB 5.5 MB/s eta 0:00:02\n",
      "   ----------------------- ---------------- 9.1/15.8 MB 5.6 MB/s eta 0:00:02\n",
      "   ------------------------ --------------- 9.6/15.8 MB 5.7 MB/s eta 0:00:02\n",
      "   ------------------------- -------------- 10.0/15.8 MB 5.8 MB/s eta 0:00:02\n",
      "   -------------------------- ------------- 10.4/15.8 MB 6.1 MB/s eta 0:00:01\n",
      "   --------------------------- ------------ 10.8/15.8 MB 6.4 MB/s eta 0:00:01\n",
      "   ---------------------------- ----------- 11.2/15.8 MB 6.4 MB/s eta 0:00:01\n",
      "   ----------------------------- ---------- 11.6/15.8 MB 6.4 MB/s eta 0:00:01\n",
      "   ------------------------------ --------- 12.0/15.8 MB 6.4 MB/s eta 0:00:01\n",
      "   ------------------------------- -------- 12.4/15.8 MB 6.3 MB/s eta 0:00:01\n",
      "   -------------------------------- ------- 12.7/15.8 MB 6.3 MB/s eta 0:00:01\n",
      "   -------------------------------- ------- 12.8/15.8 MB 6.2 MB/s eta 0:00:01\n",
      "   --------------------------------- ------ 13.1/15.8 MB 6.2 MB/s eta 0:00:01\n",
      "   ---------------------------------- ----- 13.5/15.8 MB 6.2 MB/s eta 0:00:01\n",
      "   ----------------------------------- ---- 14.0/15.8 MB 6.2 MB/s eta 0:00:01\n",
      "   ------------------------------------ --- 14.4/15.8 MB 6.2 MB/s eta 0:00:01\n",
      "   ------------------------------------- -- 14.8/15.8 MB 6.2 MB/s eta 0:00:01\n",
      "   -------------------------------------- - 15.1/15.8 MB 6.2 MB/s eta 0:00:01\n",
      "   -------------------------------------- - 15.3/15.8 MB 6.1 MB/s eta 0:00:01\n",
      "   ---------------------------------------  15.5/15.8 MB 6.0 MB/s eta 0:00:01\n",
      "   ---------------------------------------  15.7/15.8 MB 6.0 MB/s eta 0:00:01\n",
      "   ---------------------------------------  15.8/15.8 MB 5.9 MB/s eta 0:00:01\n",
      "   ---------------------------------------- 15.8/15.8 MB 5.8 MB/s eta 0:00:00\n",
      "Installing collected packages: numpy\n",
      "Note: you may need to restart the kernel to use updated packages.\n"
     ]
    },
    {
     "name": "stderr",
     "output_type": "stream",
     "text": [
      "  WARNING: Failed to write executable - trying to use .deleteme logic\n",
      "ERROR: Could not install packages due to an OSError: [WinError 2] The system cannot find the file specified: 'C:\\\\Python310\\\\Scripts\\\\f2py.exe' -> 'C:\\\\Python310\\\\Scripts\\\\f2py.exe.deleteme'\n",
      "\n"
     ]
    }
   ],
   "source": [
    "pip install numpy"
   ]
  },
  {
   "cell_type": "code",
   "execution_count": 3,
   "id": "146a6b74-8f31-4515-8407-6e7cfe7eff78",
   "metadata": {},
   "outputs": [],
   "source": [
    "import numpy as np"
   ]
  },
  {
   "cell_type": "code",
   "execution_count": 13,
   "id": "aa43c89d-4826-43e8-b8b5-ac0f6c31a300",
   "metadata": {},
   "outputs": [
    {
     "data": {
      "text/plain": [
       "array([16, 35,  8, 33,  8, 48, 29,  5, 15, 14])"
      ]
     },
     "execution_count": 13,
     "metadata": {},
     "output_type": "execute_result"
    }
   ],
   "source": [
    "arr= np.random.randint(1, 50, size=(10))\n",
    "arr"
   ]
  },
  {
   "cell_type": "code",
   "execution_count": 6,
   "id": "e5b1d7f0-0701-41b8-8dd8-7c8309023778",
   "metadata": {},
   "outputs": [
    {
     "data": {
      "text/plain": [
       "1"
      ]
     },
     "execution_count": 6,
     "metadata": {},
     "output_type": "execute_result"
    }
   ],
   "source": [
    "np.ndim(arr)"
   ]
  },
  {
   "cell_type": "code",
   "execution_count": 14,
   "id": "8c95c8fc-b143-4725-9050-a0d021f0c9bc",
   "metadata": {},
   "outputs": [
    {
     "data": {
      "text/plain": [
       "dtype('int32')"
      ]
     },
     "execution_count": 14,
     "metadata": {},
     "output_type": "execute_result"
    }
   ],
   "source": [
    "arr.dtype"
   ]
  },
  {
   "cell_type": "code",
   "execution_count": 15,
   "id": "a8699e28-4c70-47b1-9a43-a22c4d8c9794",
   "metadata": {},
   "outputs": [
    {
     "data": {
      "text/plain": [
       "10"
      ]
     },
     "execution_count": 15,
     "metadata": {},
     "output_type": "execute_result"
    }
   ],
   "source": [
    "arr.size"
   ]
  },
  {
   "cell_type": "code",
   "execution_count": 16,
   "id": "80ef20fb-8ad8-4ff7-9c99-ffef88f331a7",
   "metadata": {},
   "outputs": [
    {
     "data": {
      "text/plain": [
       "array([[15, 48, 74, 52, 68],\n",
       "       [17, 84, 83, 91, 56]])"
      ]
     },
     "execution_count": 16,
     "metadata": {},
     "output_type": "execute_result"
    }
   ],
   "source": [
    "Mat = np.random.randint(10, 100, size=(2, 5))\n",
    "Mat"
   ]
  },
  {
   "cell_type": "code",
   "execution_count": 17,
   "id": "6e0a3625-3521-4fac-9651-a89251b733f7",
   "metadata": {},
   "outputs": [
    {
     "data": {
      "text/plain": [
       "10"
      ]
     },
     "execution_count": 17,
     "metadata": {},
     "output_type": "execute_result"
    }
   ],
   "source": [
    "arr.size"
   ]
  },
  {
   "cell_type": "code",
   "execution_count": 18,
   "id": "cfb267f1-903d-4fe9-bc81-d3f69211c5a6",
   "metadata": {},
   "outputs": [
    {
     "data": {
      "text/plain": [
       "(10,)"
      ]
     },
     "execution_count": 18,
     "metadata": {},
     "output_type": "execute_result"
    }
   ],
   "source": [
    "arr.shape"
   ]
  },
  {
   "cell_type": "code",
   "execution_count": null,
   "id": "ce13b847-bc0b-4893-87ea-1686da9c737f",
   "metadata": {},
   "outputs": [],
   "source": []
  }
 ],
 "metadata": {
  "kernelspec": {
   "display_name": "Python 3 (ipykernel)",
   "language": "python",
   "name": "python3"
  },
  "language_info": {
   "codemirror_mode": {
    "name": "ipython",
    "version": 3
   },
   "file_extension": ".py",
   "mimetype": "text/x-python",
   "name": "python",
   "nbconvert_exporter": "python",
   "pygments_lexer": "ipython3",
   "version": "3.10.8"
  }
 },
 "nbformat": 4,
 "nbformat_minor": 5
}
